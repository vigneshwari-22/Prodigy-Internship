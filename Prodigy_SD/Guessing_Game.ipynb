{
 "cells": [
  {
   "cell_type": "code",
   "execution_count": 4,
   "metadata": {},
   "outputs": [
    {
     "name": "stdout",
     "output_type": "stream",
     "text": [
      "Welcome to the Guessing Game!\n",
      "I have selected a number between 1 and 100.\n",
      "Try to guess it!\n",
      "Too high! Try again.\n",
      "Too low! Try again.\n",
      "Too low! Try again.\n",
      "Too low! Try again.\n",
      "Too low! Try again.\n",
      "Too low! Try again.\n",
      "Too low! Try again.\n",
      "Too low! Try again.\n",
      "Too high! Try again.\n",
      "Too high! Try again.\n",
      "Too high! Try again.\n",
      "Too low! Try again.\n",
      "Congratulations, Vigneshwari! You guessed the number in (attempts) attempts.\n",
      "An error occurred: name 'requests' is not defined\n",
      "Thank you for playing!\n"
     ]
    }
   ],
   "source": [
    "import random\n",
    "\n",
    "def send_game_result(player_name, attempts, result):\n",
    "    url= \"http://example.com/api/game_result\" #Replace with the actual server URL\n",
    "    payload = {\n",
    "        \"player_name\": player_name,\n",
    "        \"attempts\": attempts,\n",
    "        \"result\": result\n",
    "    }\n",
    "    try:\n",
    "        response = requests.post(url, json=payload)\n",
    "        if response.status_code == 200:\n",
    "            print(\"Result sent successfully!\")\n",
    "        else:\n",
    "            print(\"Failed to send result: {response.status_code}\")\n",
    "    except Exception as e:\n",
    "        print(f\"An error occurred: {e}\")\n",
    "\n",
    "def guessing_game():\n",
    "    number_to_guess = random.randint(1, 100) \n",
    "    attempts=0\n",
    "    player_name = input(\"Enter your name: \")\n",
    "\n",
    "    print(\"Welcome to the Guessing Game!\")\n",
    "    print(\"I have selected a number between 1 and 100.\")\n",
    "    print(\"Try to guess it!\")\n",
    "\n",
    "    while True:\n",
    "        try:\n",
    "            guess = int(input(\"Enter your guess: \")) \n",
    "            attempts += 1\n",
    "\n",
    "            if guess < number_to_guess:\n",
    "                print(\"Too low! Try again.\")\n",
    "            elif guess > number_to_guess: \n",
    "                print(\"Too high! Try again.\")\n",
    "            else:\n",
    "                print(f\"Congratulations, {player_name}! You guessed the number in (attempts) attempts.\") \n",
    "                send_game_result(player_name, attempts, \"Win\")\n",
    "                break\n",
    "        except ValueError:\n",
    "            print(\"Invalid input. Please enter a number.\")\n",
    "    if input(\"Do you want to play again? (yes/no): \").lower() == \"yes\":\n",
    "        guessing_game()\n",
    "    else:\n",
    "        print(\"Thank you for playing!\")\n",
    "\n",
    "if __name__ == \"__main__\":\n",
    "    guessing_game()"
   ]
  }
 ],
 "metadata": {
  "kernelspec": {
   "display_name": "Python 3",
   "language": "python",
   "name": "python3"
  },
  "language_info": {
   "codemirror_mode": {
    "name": "ipython",
    "version": 3
   },
   "file_extension": ".py",
   "mimetype": "text/x-python",
   "name": "python",
   "nbconvert_exporter": "python",
   "pygments_lexer": "ipython3",
   "version": "3.12.3"
  }
 },
 "nbformat": 4,
 "nbformat_minor": 2
}
